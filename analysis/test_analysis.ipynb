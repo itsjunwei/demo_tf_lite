{
 "cells": [
  {
   "cell_type": "markdown",
   "metadata": {},
   "source": [
    "### Load Modules\n"
   ]
  },
  {
   "cell_type": "code",
   "execution_count": null,
   "metadata": {},
   "outputs": [],
   "source": [
    "import pandas as pd \n",
    "import matplotlib.pyplot as plt\n",
    "import tensorflow as tf\n",
    "import numpy as np\n",
    "import h5py \n",
    "import sklearn"
   ]
  },
  {
   "cell_type": "markdown",
   "metadata": {},
   "source": [
    "### Load all the ground truth and prediction data  "
   ]
  },
  {
   "cell_type": "code",
   "execution_count": null,
   "metadata": {},
   "outputs": [],
   "source": [
    "cls_gt = pd.read_csv('../experiments/outputs/cls_gt.csv', header=None)\n",
    "cls_pred = pd.read_csv('../experiments/outputs/cls_pred.csv', header=None)\n",
    "doa_gt = pd.read_csv('../experiments/outputs/doa_gt.csv', header=None)\n",
    "doa_pred = pd.read_csv('../experiments/outputs/doa_pred.csv', header=None)"
   ]
  },
  {
   "cell_type": "code",
   "execution_count": null,
   "metadata": {},
   "outputs": [],
   "source": [
    "cls_pred_cleaned = cls_pred.applymap(lambda x: 1.0 if x > 0.3 else 0.0)\n",
    "cls_pred_cleaned"
   ]
  },
  {
   "cell_type": "code",
   "execution_count": null,
   "metadata": {},
   "outputs": [],
   "source": [
    "identical_rows = (cls_gt == cls_pred_cleaned).all(axis=1)\n",
    "num_identical_rows = identical_rows.sum()\n",
    "print(num_identical_rows)"
   ]
  },
  {
   "cell_type": "code",
   "execution_count": null,
   "metadata": {},
   "outputs": [],
   "source": [
    "identical_rows[0]"
   ]
  },
  {
   "cell_type": "code",
   "execution_count": null,
   "metadata": {},
   "outputs": [],
   "source": [
    "for i in range(3):\n",
    "    doa_gt[f'az{i}'] = np.degrees(np.arctan2(doa_gt[i], doa_gt[i+3]))\n",
    "    doa_gt[f'az{i}'] = (doa_gt[f'az{i}'] + 360)%360\n",
    "    \n",
    "    doa_pred[f'az{i}'] = np.degrees(np.arctan2(doa_pred[i], doa_pred[i+3]))\n",
    "    doa_pred[f'az{i}'] = (doa_pred[f'az{i}'] + 360)%360"
   ]
  },
  {
   "cell_type": "code",
   "execution_count": null,
   "metadata": {},
   "outputs": [],
   "source": [
    "azi_gt = doa_gt[['az0' , 'az1' , 'az2']].copy()\n",
    "azi_pred = doa_pred[['az0' , 'az1' , 'az2']].copy()"
   ]
  },
  {
   "cell_type": "code",
   "execution_count": null,
   "metadata": {},
   "outputs": [],
   "source": [
    "gt_azi = azi_gt.values.tolist()\n",
    "pred_azi = azi_pred.values.tolist()"
   ]
  },
  {
   "cell_type": "code",
   "execution_count": null,
   "metadata": {},
   "outputs": [],
   "source": [
    "\n",
    "mask = [[1 if value !=0 else 0 for value in sublist] for sublist in gt_azi]\n",
    "pred_arr = np.array(pred_azi)\n",
    "mask_arr = np.array(mask)\n",
    "azi_gt_arr = np.array(gt_azi)\n",
    "masked_pred = list(pred_arr * mask_arr)"
   ]
  },
  {
   "cell_type": "code",
   "execution_count": null,
   "metadata": {},
   "outputs": [],
   "source": [
    "mean_abs_diff = np.mean(np.abs(masked_pred - azi_gt_arr))*3\n",
    "print(mean_abs_diff)"
   ]
  },
  {
   "cell_type": "code",
   "execution_count": null,
   "metadata": {},
   "outputs": [],
   "source": [
    "np.abs(masked_pred[2] - azi_gt_arr[2])"
   ]
  },
  {
   "cell_type": "code",
   "execution_count": null,
   "metadata": {},
   "outputs": [],
   "source": [
    "np.sum(np.abs(masked_pred[2] - azi_gt_arr[2])) "
   ]
  },
  {
   "cell_type": "markdown",
   "metadata": {},
   "source": [
    "### Location dependent error rate"
   ]
  },
  {
   "cell_type": "code",
   "execution_count": null,
   "metadata": {},
   "outputs": [],
   "source": [
    "is_class_correct = identical_rows.values.tolist()\n",
    "count = 0\n",
    "check_cls = 0\n",
    "neg_count = 0\n",
    "for i in range(len(is_class_correct)):\n",
    "    if is_class_correct[i]:\n",
    "        check_cls += 1\n",
    "        deg_diff = np.sum(np.abs(masked_pred[i] - azi_gt_arr[i]))\n",
    "        if deg_diff <= 20:\n",
    "            count += 1\n",
    "        else:\n",
    "            neg_count += 1\n",
    "          \n",
    "print(check_cls)  \n",
    "print(count)\n",
    "print(neg_count)"
   ]
  },
  {
   "cell_type": "code",
   "execution_count": null,
   "metadata": {},
   "outputs": [],
   "source": [
    "azi_gt"
   ]
  },
  {
   "cell_type": "code",
   "execution_count": null,
   "metadata": {},
   "outputs": [],
   "source": [
    "masked_pred"
   ]
  },
  {
   "cell_type": "code",
   "execution_count": null,
   "metadata": {},
   "outputs": [],
   "source": [
    "for i in range(len(masked_pred)):\n",
    "    print(azi_gt_arr[i])\n",
    "    print(masked_pred[i])\n",
    "    print('\\n')"
   ]
  }
 ],
 "metadata": {
  "kernelspec": {
   "display_name": "tf-lite-demo",
   "language": "python",
   "name": "python3"
  },
  "language_info": {
   "codemirror_mode": {
    "name": "ipython",
    "version": 3
   },
   "file_extension": ".py",
   "mimetype": "text/x-python",
   "name": "python",
   "nbconvert_exporter": "python",
   "pygments_lexer": "ipython3",
   "version": "3.7.16"
  }
 },
 "nbformat": 4,
 "nbformat_minor": 2
}
