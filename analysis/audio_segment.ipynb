{
 "cells": [
  {
   "cell_type": "code",
   "execution_count": 17,
   "metadata": {},
   "outputs": [],
   "source": [
    "import soundfile as sf \n",
    "import librosa\n",
    "import numpy as np \n",
    "import pandas as pd \n",
    "import os\n",
    "from tqdm import tqdm"
   ]
  },
  {
   "cell_type": "markdown",
   "metadata": {},
   "source": [
    "### Segmenting Audio Files\n",
    "\n",
    "Core files are separated into Dog , Speech , Impact\n",
    "\n",
    "Segment into 200ms chunks with 100ms overlap \n",
    "\n",
    "Saved in \"class_azimuth_idx.wav\" file names"
   ]
  },
  {
   "cell_type": "code",
   "execution_count": 23,
   "metadata": {},
   "outputs": [
    {
     "name": "stderr",
     "output_type": "stream",
     "text": [
      "100%|██████████| 5983/5983 [00:35<00:00, 167.06it/s]\n",
      "100%|██████████| 5983/5983 [00:38<00:00, 157.13it/s]\n",
      "100%|██████████| 5983/5983 [00:38<00:00, 153.80it/s]\n",
      "100%|██████████| 5983/5983 [00:35<00:00, 167.40it/s]\n",
      "100%|██████████| 5983/5983 [00:37<00:00, 160.85it/s]\n",
      "100%|██████████| 5983/5983 [00:37<00:00, 158.72it/s]\n",
      "100%|██████████| 6679/6679 [00:31<00:00, 213.54it/s]\n",
      "100%|██████████| 6679/6679 [00:33<00:00, 198.13it/s]\n",
      "100%|██████████| 6679/6679 [00:32<00:00, 208.29it/s]\n",
      "100%|██████████| 6679/6679 [00:32<00:00, 206.43it/s]\n",
      "100%|██████████| 6679/6679 [00:32<00:00, 204.60it/s]\n",
      "100%|██████████| 6679/6679 [00:32<00:00, 207.50it/s]\n",
      "100%|██████████| 6013/6013 [00:28<00:00, 209.55it/s]\n",
      "100%|██████████| 6013/6013 [00:30<00:00, 197.49it/s]\n",
      "100%|██████████| 6013/6013 [00:29<00:00, 200.95it/s]\n",
      "100%|██████████| 6013/6013 [00:29<00:00, 203.91it/s]\n",
      "100%|██████████| 6013/6013 [00:29<00:00, 203.57it/s]\n",
      "100%|██████████| 6013/6013 [00:28<00:00, 211.71it/s]\n"
     ]
    }
   ],
   "source": [
    "class_types = ['Dog', 'Impact' , 'Speech']\n",
    "for ct in class_types:\n",
    "    \n",
    "    # raw data directory\n",
    "    full_data_dir = '../dataset/data/Dataset_concatenated_tracks/{}/'.format(ct)\n",
    "    # cleaned, output data directory\n",
    "    output_data_dir = '../dataset/cleaned_data/{}'.format(ct.lower())\n",
    "    \n",
    "    # create dirs\n",
    "    try:\n",
    "        os.makedirs(output_data_dir)\n",
    "    except:\n",
    "        pass\n",
    "    \n",
    "    # Manual settings \n",
    "    fs=48000\n",
    "    frame_len = int(0.2*fs) # 200ms\n",
    "    hop_len = int(0.1*fs)   # 100ms\n",
    "    \n",
    "    # loop through raw data dir\n",
    "    for file in os.listdir(full_data_dir):\n",
    "        if file.endswith('.wav'):\n",
    "            fullfn = os.path.join(full_data_dir, file)\n",
    "            \n",
    "            # extract azimuth from gt\n",
    "            vars = file.split('_')\n",
    "            azimuth = vars[2]\n",
    "            \n",
    "            # load audio\n",
    "            audio , _ = librosa.load(fullfn, sr=fs, mono=False, dtype=np.float32)\n",
    "            \n",
    "            # Segment the audio input into overlapping frames\n",
    "            frames = librosa.util.frame(audio, frame_length=frame_len, hop_length=hop_len)\n",
    "            \n",
    "            # Transpose into (n_segments, timebins, channels)\n",
    "            frames = frames.T\n",
    "            for idx, frame in enumerate(tqdm(frames)):\n",
    "                final_fn = \"{}_{}_{}.wav\".format(ct.lower(), azimuth, idx+1)\n",
    "                final_fp = os.path.join(output_data_dir, final_fn)\n",
    "                sf.write(final_fp, frame, samplerate=48000)"
   ]
  }
 ],
 "metadata": {
  "kernelspec": {
   "display_name": "demo_env",
   "language": "python",
   "name": "python3"
  },
  "language_info": {
   "codemirror_mode": {
    "name": "ipython",
    "version": 3
   },
   "file_extension": ".py",
   "mimetype": "text/x-python",
   "name": "python",
   "nbconvert_exporter": "python",
   "pygments_lexer": "ipython3",
   "version": "3.7.16"
  }
 },
 "nbformat": 4,
 "nbformat_minor": 2
}
